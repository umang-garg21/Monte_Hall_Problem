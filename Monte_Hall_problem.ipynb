{
 "cells": [
  {
   "cell_type": "code",
   "execution_count": null,
   "id": "87098f6c-eb10-46da-9020-60b9269485a6",
   "metadata": {},
   "outputs": [],
   "source": [
    "# Monte Hall Problem"
   ]
  },
  {
   "cell_type": "code",
   "execution_count": 2,
   "id": "8cf85e9b-cc2e-4d0d-8842-52faa1d22083",
   "metadata": {},
   "outputs": [],
   "source": [
    "import random\n",
    "import matplotlib as plt\n",
    "import itertools"
   ]
  },
  {
   "cell_type": "code",
   "execution_count": 31,
   "id": "90d96839-232d-47af-bd53-1fcc21fe2871",
   "metadata": {},
   "outputs": [
    {
     "name": "stdout",
     "output_type": "stream",
     "text": [
      "wins_stick probability 0.32781\n",
      "wins_switch probability 0.66554\n"
     ]
    }
   ],
   "source": [
    "# selection_list = list(itertools.permutations([\"car\", \"goat\", \"goat\"]))\n",
    "selection = []\n",
    "\n",
    "runs = 100000\n",
    "wins_switch = 0\n",
    "wins_stick = 0\n",
    "##############################################\n",
    "# Strategy 1 : stick to the initial choice\n",
    "##############################################\n",
    "\n",
    "  \n",
    "for i in range(runs):\n",
    "    \n",
    "    doors = [1, 0, 0] # 1 represents car, 0 represents goat\n",
    "    # Fix the permutation for this run\n",
    "    random.shuffle(doors)\n",
    "    temp = doors\n",
    "    # print(\"Temp is\" , temp)\n",
    "    # print(\"Doors is\" , doors)\n",
    "    # Player chooses a door randomly \n",
    "    first_choice = random.randrange(3)   \n",
    "    # print(\"first choice is\", first_choice)\n",
    "    \n",
    "    store_value = doors[first_choice] #storing the first choice value\n",
    "    del(doors[first_choice]) # deleting the random guess\n",
    " \n",
    "    new_index = 0\n",
    "    for val in doors: # firsr occurence of Value 0 in modified list\n",
    "        if val == 0:\n",
    "            del(doors[new_index]) # deletes a goat when it finds it\n",
    "            break\n",
    "        new_index+=1\n",
    "       \n",
    "    if store_value == 1:\n",
    "        wins_stick += 1      \n",
    "    \n",
    "##############################################\n",
    "#Strategy -2 :switch the door\n",
    "##############################################\n",
    "for i in range(runs):\n",
    "    \n",
    "    doors = [1, 0, 0] # 1 represents car, 0 represents goat\n",
    "    # Fix the permutation for this run\n",
    "    random.shuffle(doors)\n",
    "    temp = doors\n",
    "    # print(\"Temp is\" , temp)\n",
    "    # print(\"Doors is\" , doors)\n",
    "    # Player chooses a door randomly \n",
    "    first_choice = random.randrange(3)   \n",
    "    # print(\"first choice is\", first_choice)\n",
    "    \n",
    "    store_value = doors[first_choice] #storing the first choice value\n",
    "    del(doors[first_choice]) # deleting the random guess\n",
    " \n",
    "    new_index = 0\n",
    "    for val in doors: # firsr occurence of Value 0 in modified list\n",
    "        if val == 0:\n",
    "            del(doors[new_index]) # deletes a goat when it finds it\n",
    "            break\n",
    "        new_index+=1    \n",
    "    \n",
    "    # print(\" Modified doors\", doors)\n",
    "    if doors[0] == 1:\n",
    "        wins_switch += 1\n",
    "\n",
    "print(\"wins_stick probability\", wins_stick/runs)\n",
    "print(\"wins_switch probability\", wins_switch/runs)"
   ]
  },
  {
   "cell_type": "code",
   "execution_count": null,
   "id": "aa662c3c-f860-4bc4-b087-2304b34749d2",
   "metadata": {},
   "outputs": [],
   "source": []
  }
 ],
 "metadata": {
  "kernelspec": {
   "display_name": "Python 3 (ipykernel)",
   "language": "python",
   "name": "python3"
  },
  "language_info": {
   "codemirror_mode": {
    "name": "ipython",
    "version": 3
   },
   "file_extension": ".py",
   "mimetype": "text/x-python",
   "name": "python",
   "nbconvert_exporter": "python",
   "pygments_lexer": "ipython3",
   "version": "3.8.13"
  }
 },
 "nbformat": 4,
 "nbformat_minor": 5
}
